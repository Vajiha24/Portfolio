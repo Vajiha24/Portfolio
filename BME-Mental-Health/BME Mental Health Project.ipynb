{
 "cells": [
  {
   "cell_type": "markdown",
   "metadata": {},
   "source": [
    "# Access to mental health services by the BME population in the UK\n",
    "\n",
    "People from ethnic minorities in the UK, particularly of Asian background, are said to be less likely to access mental health services provide by the NHS.\n",
    "This analysis sets out to see if there is indeed a disparity between services accessed by the asian population vs the white population, and will statistically test if there is a significance difference in the two groups."
   ]
  },
  {
   "cell_type": "code",
   "execution_count": 31,
   "metadata": {},
   "outputs": [],
   "source": [
    "from matplotlib import pyplot as plt\n",
    "import pandas as pd\n",
    "import seaborn as sns\n",
    "from scipy.stats import chi2_contingency\n",
    "import numpy as np \n",
    "import requests\n",
    "import pprint\n",
    "import plotly\n",
    "import plotly.graph_objects as go\n",
    "\n",
    "%matplotlib inline\n",
    "\n",
    "#The below is for online saving of plotly figures\n",
    "import os\n",
    "\n",
    "if not os.path.exists(\"images\"):\n",
    "    os.mkdir(\"images\")"
   ]
  },
  {
   "cell_type": "markdown",
   "metadata": {},
   "source": [
    "The first step to analyising the data is to load and inspect the data to then be able to clean it, ready for analysis. \n",
    "\n",
    "Whilst loading in the csv, we will define the value of the NaN values in the file, which are '-' and '*' so that we can easily fill in these values later. "
   ]
  },
  {
   "cell_type": "code",
   "execution_count": 4,
   "metadata": {},
   "outputs": [
    {
     "name": "stdout",
     "output_type": "stream",
     "text": [
      "  Reporting period Breakdown     Level Level description  \\\n",
      "0          2014/15  National  National           England   \n",
      "1          2014/15  National  National           England   \n",
      "2          2014/15  National  National           England   \n",
      "3          2014/15  National  National           England   \n",
      "4          2014/15  National  National           England   \n",
      "\n",
      "                       Ethnicity group Rate per 100,000 Population  \\\n",
      "0               Asian or Asian British         1,651.30  4,143,400   \n",
      "1           Any other Asian background         2,039.00    819,400   \n",
      "2                          Bangladeshi         1,839.60    436,500   \n",
      "3                              Chinese            755.2    379,500   \n",
      "4                               Indian         1,455.40  1,395,700   \n",
      "\n",
      "  Number using service  \n",
      "0               68,419  \n",
      "1               16,708  \n",
      "2                8,030  \n",
      "3                2,866  \n",
      "4               20,313  \n"
     ]
    }
   ],
   "source": [
    "data = pd.read_csv('BME Mental Health Stats.csv', na_values=['-','*'])\n",
    "print(data.head())"
   ]
  },
  {
   "cell_type": "markdown",
   "metadata": {},
   "source": [
    "Diagnose the data further."
   ]
  },
  {
   "cell_type": "code",
   "execution_count": 5,
   "metadata": {},
   "outputs": [
    {
     "name": "stdout",
     "output_type": "stream",
     "text": [
      "<class 'pandas.core.frame.DataFrame'>\n",
      "RangeIndex: 26288 entries, 0 to 26287\n",
      "Data columns (total 8 columns):\n",
      "Reporting period        26288 non-null object\n",
      "Breakdown               26288 non-null object\n",
      "Level                   26288 non-null object\n",
      "Level description       26288 non-null object\n",
      "Ethnicity group         26288 non-null object\n",
      "Rate per 100,000        16491 non-null object\n",
      "Population              21200 non-null object\n",
      "Number using service    20131 non-null object\n",
      "dtypes: object(8)\n",
      "memory usage: 1.6+ MB\n"
     ]
    },
    {
     "data": {
      "text/plain": [
       "Reporting period        object\n",
       "Breakdown               object\n",
       "Level                   object\n",
       "Level description       object\n",
       "Ethnicity group         object\n",
       "Rate per 100,000        object\n",
       "Population              object\n",
       "Number using service    object\n",
       "dtype: object"
      ]
     },
     "execution_count": 5,
     "metadata": {},
     "output_type": "execute_result"
    }
   ],
   "source": [
    "data.info()\n",
    "\n",
    "data.dtypes\n"
   ]
  },
  {
   "cell_type": "markdown",
   "metadata": {},
   "source": [
    "To make the column names more accessible to manipulation, I will get rid of all the spaces and commas and change them to underscores."
   ]
  },
  {
   "cell_type": "code",
   "execution_count": 6,
   "metadata": {},
   "outputs": [
    {
     "name": "stdout",
     "output_type": "stream",
     "text": [
      "Index(['Reporting_period', 'Breakdown', 'Level', 'Level_description',\n",
      "       'Ethnicity_group', 'Rate_per_100_000', 'Population',\n",
      "       'Number_using_service'],\n",
      "      dtype='object')\n"
     ]
    }
   ],
   "source": [
    "data.columns = [c.replace(' ', '_') for c in data.columns]\n",
    "data.columns = [c.replace(',', '_') for c in data.columns]\n",
    "\n",
    "print(data.columns)"
   ]
  },
  {
   "cell_type": "markdown",
   "metadata": {},
   "source": [
    "We can see from the above, that before we analyse the data, we will also need to change the types of values and manipulate the strings to be able to perform numerical calculations on.\n",
    "\n",
    "The data doesn't need reshaping. (We want each variable as a separate column and each row as a separate observation which we already have with ethnicity as a variable and the different ethnicities as spearate observations in rows.\n",
    "\n",
    "However we do need to delete the rows that contain the totals, and separate out the national level stats when we do regional analysis so that we are working from 2 different tables. \n",
    "\n",
    "First, let's get rid of all (',') in the data and turn into numerical data (integer/float)."
   ]
  },
  {
   "cell_type": "code",
   "execution_count": 7,
   "metadata": {},
   "outputs": [],
   "source": [
    "data.Rate_per_100_000 = data['Rate_per_100_000'].replace('[\\,,]', '', regex = True)\n",
    "\n",
    "data.Population = data['Population'].replace('[\\,,]', '', regex = True)\n",
    "\n",
    "data.Number_using_service = data['Number_using_service'].replace('[\\,,]', '', regex = True)"
   ]
  },
  {
   "cell_type": "markdown",
   "metadata": {},
   "source": [
    "We get an error when trying to convert the values to numerical data, due to missing values in the columns, so we first need to fix this. We can fill all NaN with '0'."
   ]
  },
  {
   "cell_type": "code",
   "execution_count": 8,
   "metadata": {},
   "outputs": [
    {
     "name": "stdout",
     "output_type": "stream",
     "text": [
      "Index(['Reporting_period', 'Breakdown', 'Level', 'Level_description',\n",
      "       'Ethnicity_group', 'Rate_per_100_000', 'Population',\n",
      "       'Number_using_service'],\n",
      "      dtype='object')\n"
     ]
    }
   ],
   "source": [
    "data.Population = data['Population'].fillna(0)\n",
    "data.Population = pd.to_numeric(data.Population)\n",
    "\n",
    "data.Number_using_service = data['Number_using_service'].fillna(0)\n",
    "data.Number_using_service = pd.to_numeric(data.Number_using_service)\n",
    "\n",
    "print(data.columns)"
   ]
  },
  {
   "cell_type": "markdown",
   "metadata": {},
   "source": [
    "Next we need to delete any rows which dont make sense and will skew the data if left in. ie. the total rows and the header rows.\n",
    "\n",
    "We should also check for duplicate rows at this point."
   ]
  },
  {
   "cell_type": "code",
   "execution_count": 9,
   "metadata": {},
   "outputs": [
    {
     "data": {
      "text/plain": [
       "1        False\n",
       "2        False\n",
       "3        False\n",
       "4        False\n",
       "5        False\n",
       "         ...  \n",
       "26282    False\n",
       "26283    False\n",
       "26284    False\n",
       "26285    False\n",
       "26287    False\n",
       "Length: 18656, dtype: bool"
      ]
     },
     "execution_count": 9,
     "metadata": {},
     "output_type": "execute_result"
    }
   ],
   "source": [
    "strings_to_delete = ['Total for Black and Minority Ethnic groups', 'Grand total',\\\n",
    "                     'Total for Black and Minority Ethnic groups', 'Asian or Asian British',\\\n",
    "                     'Black or black British', 'Mixed', 'Not known', 'Not stated',\\\n",
    "                     'Other ethnic groups','Unspecified', 'White'] \n",
    "data = data[~data['Ethnicity_group'].isin(strings_to_delete)]\n",
    "\n",
    "data.duplicated()\n"
   ]
  },
  {
   "cell_type": "markdown",
   "metadata": {},
   "source": [
    "It looks like it could be beneficial to add a column into the dataframe which calculates the percentage."
   ]
  },
  {
   "cell_type": "code",
   "execution_count": 43,
   "metadata": {},
   "outputs": [],
   "source": [
    "data['Percentage_using_service']=((data.Number_using_service)/(data.Population))*100"
   ]
  },
  {
   "cell_type": "markdown",
   "metadata": {},
   "source": [
    "Now we will split the dataframe into 2 separate dataframes, one for national level data and one for regional level data."
   ]
  },
  {
   "cell_type": "code",
   "execution_count": 44,
   "metadata": {},
   "outputs": [],
   "source": [
    "national_data = data[data.Level == 'National']\n",
    "regional_data = data[data.Level != 'National']\n"
   ]
  },
  {
   "cell_type": "markdown",
   "metadata": {},
   "source": [
    "Now let's start to look at the data and analyse it!\n",
    " \n",
    "First let's look at the national level data and compare the percentage of the population of ethnicity groups who used metal health services."
   ]
  },
  {
   "cell_type": "code",
   "execution_count": 45,
   "metadata": {},
   "outputs": [
    {
     "name": "stdout",
     "output_type": "stream",
     "text": [
      "  Reporting_period Breakdown     Level Level_description  \\\n",
      "1          2014/15  National  National           England   \n",
      "2          2014/15  National  National           England   \n",
      "3          2014/15  National  National           England   \n",
      "4          2014/15  National  National           England   \n",
      "5          2014/15  National  National           England   \n",
      "\n",
      "                       Ethnicity_group Rate_per_100_000  Population  \\\n",
      "1           Any other Asian background          2039.00      819400   \n",
      "2                          Bangladeshi          1839.60      436500   \n",
      "3                              Chinese            755.2      379500   \n",
      "4                               Indian          1455.40     1395700   \n",
      "5                            Pakistani          1843.20     1112300   \n",
      "\n",
      "   Number_using_service  Percentage_using_service  \n",
      "1                 16708                  2.039053  \n",
      "2                  8030                  1.839633  \n",
      "3                  2866                  0.755204  \n",
      "4                 20313                  1.455399  \n",
      "5                 20502                  1.843208  \n"
     ]
    }
   ],
   "source": [
    "print(national_data.head())"
   ]
  },
  {
   "cell_type": "markdown",
   "metadata": {},
   "source": [
    "We will create a bar graph to visualise the comparison between the ethnicity groups using the service."
   ]
  },
  {
   "cell_type": "code",
   "execution_count": 13,
   "metadata": {},
   "outputs": [
    {
     "data": {
      "image/png": "[encoded data removed]",
      "text/plain": [
       "<Figure size 1080x576 with 1 Axes>"
      ]
     },
     "metadata": {
      "needs_background": "light"
     },
     "output_type": "display_data"
    }
   ],
   "source": [
    "plt.figure(figsize=(15,8))\n",
    "plt.title(\"Services accessed across ethnicities\")\n",
    "plt.xlabel(\"Ethnicity\")\n",
    "plt.ylabel(\"Percentage of population using services\")\n",
    "sns.set_style('darkgrid')\n",
    "sns.set_context('notebook')\n",
    "ax = sns.barplot(data = national_data, x = 'Ethnicity_group', y = 'Percentage_using_service')\n",
    "ax.set_xticklabels(national_data.Ethnicity_group, rotation = 90)\n",
    "plt.show()"
   ]
  },
  {
   "cell_type": "markdown",
   "metadata": {},
   "source": [
    "Combine the ethnicities into asian/black etc. Create a subset."
   ]
  },
  {
   "cell_type": "code",
   "execution_count": 54,
   "metadata": {},
   "outputs": [
    {
     "data": {
      "image/png": "[encoded data removed]",
      "text/plain": [
       "<Figure size 432x288 with 2 Axes>"
      ]
     },
     "metadata": {
      "needs_background": "light"
     },
     "output_type": "display_data"
    }
   ],
   "source": [
    "Pakistani_data = regional_data[regional_data.Ethnicity_group.str.contains('Pakistani')]\n",
    "\n",
    "British_data = regional_data[regional_data.Ethnicity_group.str.contains('British')]\n",
    "\n",
    "asian_search_values = ['Pakistani', 'Indian', 'Chinese', 'Bangladeshi', 'Any other Asian background']\n",
    "asian_regional_data = regional_data[regional_data.Ethnicity_group.str.contains('|'.join(asian_search_values))]\n",
    "\n",
    "white_search_values = ['British', 'Irish', 'Any other white background']\n",
    "white_regional_data = regional_data[regional_data.Ethnicity_group.str.contains('|'.join(white_search_values))]\n",
    "\n",
    "plt.subplot(1,2,1)\n",
    "sns.barplot(data=asian_regional_data, x = 'Ethnicity_group', y = 'Percentage_using_service')\n",
    "plt.subplot(1,2,2)\n",
    "sns.barplot(data=white_regional_data, x = 'Ethnicity_group', y = 'Percentage_using_service')\n",
    "plt.show()"
   ]
  },
  {
   "cell_type": "code",
   "execution_count": 55,
   "metadata": {},
   "outputs": [
    {
     "data": {
      "text/plain": [
       "(1.077967914459348, 2.2709889127928076)"
      ]
     },
     "execution_count": 55,
     "metadata": {},
     "output_type": "execute_result"
    }
   ],
   "source": [
    "asian_mean_using_service = asian_regional_data[\"Percentage_using_service\"].mean()\n",
    "white_mean_using_service = white_regional_data[\"Percentage_using_service\"].mean()\n",
    "\n",
    "asian_mean_using_service, white_mean_using_service"
   ]
  },
  {
   "cell_type": "markdown",
   "metadata": {},
   "source": [
    "1.1% of the asian population vs 2.3% of the white population are accessing mental health services on average."
   ]
  },
  {
   "cell_type": "code",
   "execution_count": 64,
   "metadata": {},
   "outputs": [
    {
     "data": {
      "image/png": "[encoded data removed]",
      "text/plain": [
       "<Figure size 432x288 with 1 Axes>"
      ]
     },
     "metadata": {
      "needs_background": "light"
     },
     "output_type": "display_data"
    },
    {
     "data": {
      "image/png": "[encoded data removed]",
      "text/plain": [
       "<Figure size 432x288 with 1 Axes>"
      ]
     },
     "metadata": {
      "needs_background": "light"
     },
     "output_type": "display_data"
    }
   ],
   "source": [
    "asian_regional_data.hist(column=\"Percentage_using_service\", bins = 100)\n",
    "white_regional_data.hist(column=\"Percentage_using_service\", bins = 100)\n",
    "plt.show()"
   ]
  },
  {
   "cell_type": "markdown",
   "metadata": {},
   "source": [
    "Both distrubutions are skewed right"
   ]
  },
  {
   "cell_type": "markdown",
   "metadata": {},
   "source": [
    "Let's now test the hypothesis: \n",
    "\n",
    "H0: There is no difference between the proportion of health servcies accessed by Asian population vs the White population.\n"
   ]
  },
  {
   "cell_type": "code",
   "execution_count": 57,
   "metadata": {},
   "outputs": [
    {
     "data": {
      "text/html": [
       "<div>\n",
       "<style scoped>\n",
       "    .dataframe tbody tr th:only-of-type {\n",
       "        vertical-align: middle;\n",
       "    }\n",
       "\n",
       "    .dataframe tbody tr th {\n",
       "        vertical-align: top;\n",
       "    }\n",
       "\n",
       "    .dataframe thead th {\n",
       "        text-align: right;\n",
       "    }\n",
       "</style>\n",
       "<table border=\"1\" class=\"dataframe\">\n",
       "  <thead>\n",
       "    <tr style=\"text-align: right;\">\n",
       "      <th></th>\n",
       "      <th>Reporting_period</th>\n",
       "      <th>Breakdown</th>\n",
       "      <th>Level</th>\n",
       "      <th>Level_description</th>\n",
       "      <th>Ethnicity_group</th>\n",
       "      <th>Rate_per_100_000</th>\n",
       "      <th>Population</th>\n",
       "      <th>Number_using_service</th>\n",
       "      <th>Percentage_using_service</th>\n",
       "    </tr>\n",
       "  </thead>\n",
       "  <tbody>\n",
       "    <tr>\n",
       "      <th>32</th>\n",
       "      <td>2014/15</td>\n",
       "      <td>CCG</td>\n",
       "      <td>00C</td>\n",
       "      <td>NHS Darlington CCG</td>\n",
       "      <td>Any other Asian background</td>\n",
       "      <td>1298.70</td>\n",
       "      <td>500</td>\n",
       "      <td>5</td>\n",
       "      <td>1.000000</td>\n",
       "    </tr>\n",
       "    <tr>\n",
       "      <th>33</th>\n",
       "      <td>2014/15</td>\n",
       "      <td>CCG</td>\n",
       "      <td>00C</td>\n",
       "      <td>NHS Darlington CCG</td>\n",
       "      <td>Bangladeshi</td>\n",
       "      <td>1147.20</td>\n",
       "      <td>500</td>\n",
       "      <td>5</td>\n",
       "      <td>1.000000</td>\n",
       "    </tr>\n",
       "    <tr>\n",
       "      <th>34</th>\n",
       "      <td>2014/15</td>\n",
       "      <td>CCG</td>\n",
       "      <td>00C</td>\n",
       "      <td>NHS Darlington CCG</td>\n",
       "      <td>Chinese</td>\n",
       "      <td>NaN</td>\n",
       "      <td>300</td>\n",
       "      <td>0</td>\n",
       "      <td>0.000000</td>\n",
       "    </tr>\n",
       "    <tr>\n",
       "      <th>35</th>\n",
       "      <td>2014/15</td>\n",
       "      <td>CCG</td>\n",
       "      <td>00C</td>\n",
       "      <td>NHS Darlington CCG</td>\n",
       "      <td>Indian</td>\n",
       "      <td>1790.60</td>\n",
       "      <td>700</td>\n",
       "      <td>15</td>\n",
       "      <td>2.142857</td>\n",
       "    </tr>\n",
       "    <tr>\n",
       "      <th>36</th>\n",
       "      <td>2014/15</td>\n",
       "      <td>CCG</td>\n",
       "      <td>00C</td>\n",
       "      <td>NHS Darlington CCG</td>\n",
       "      <td>Pakistani</td>\n",
       "      <td>NaN</td>\n",
       "      <td>100</td>\n",
       "      <td>0</td>\n",
       "      <td>0.000000</td>\n",
       "    </tr>\n",
       "    <tr>\n",
       "      <th>...</th>\n",
       "      <td>...</td>\n",
       "      <td>...</td>\n",
       "      <td>...</td>\n",
       "      <td>...</td>\n",
       "      <td>...</td>\n",
       "      <td>...</td>\n",
       "      <td>...</td>\n",
       "      <td>...</td>\n",
       "      <td>...</td>\n",
       "    </tr>\n",
       "    <tr>\n",
       "      <th>26258</th>\n",
       "      <td>2011/12</td>\n",
       "      <td>CCG</td>\n",
       "      <td>99Q</td>\n",
       "      <td>NHS South Devon and Torbay CCG</td>\n",
       "      <td>Any other Asian background</td>\n",
       "      <td>NaN</td>\n",
       "      <td>800</td>\n",
       "      <td>0</td>\n",
       "      <td>0.000000</td>\n",
       "    </tr>\n",
       "    <tr>\n",
       "      <th>26259</th>\n",
       "      <td>2011/12</td>\n",
       "      <td>CCG</td>\n",
       "      <td>99Q</td>\n",
       "      <td>NHS South Devon and Torbay CCG</td>\n",
       "      <td>Bangladeshi</td>\n",
       "      <td>NaN</td>\n",
       "      <td>200</td>\n",
       "      <td>0</td>\n",
       "      <td>0.000000</td>\n",
       "    </tr>\n",
       "    <tr>\n",
       "      <th>26260</th>\n",
       "      <td>2011/12</td>\n",
       "      <td>CCG</td>\n",
       "      <td>99Q</td>\n",
       "      <td>NHS South Devon and Torbay CCG</td>\n",
       "      <td>Chinese</td>\n",
       "      <td>NaN</td>\n",
       "      <td>600</td>\n",
       "      <td>0</td>\n",
       "      <td>0.000000</td>\n",
       "    </tr>\n",
       "    <tr>\n",
       "      <th>26261</th>\n",
       "      <td>2011/12</td>\n",
       "      <td>CCG</td>\n",
       "      <td>99Q</td>\n",
       "      <td>NHS South Devon and Torbay CCG</td>\n",
       "      <td>Indian</td>\n",
       "      <td>NaN</td>\n",
       "      <td>600</td>\n",
       "      <td>0</td>\n",
       "      <td>0.000000</td>\n",
       "    </tr>\n",
       "    <tr>\n",
       "      <th>26262</th>\n",
       "      <td>2011/12</td>\n",
       "      <td>CCG</td>\n",
       "      <td>99Q</td>\n",
       "      <td>NHS South Devon and Torbay CCG</td>\n",
       "      <td>Pakistani</td>\n",
       "      <td>NaN</td>\n",
       "      <td>100</td>\n",
       "      <td>0</td>\n",
       "      <td>0.000000</td>\n",
       "    </tr>\n",
       "  </tbody>\n",
       "</table>\n",
       "<p>4220 rows × 9 columns</p>\n",
       "</div>"
      ],
      "text/plain": [
       "      Reporting_period Breakdown Level               Level_description  \\\n",
       "32             2014/15       CCG   00C              NHS Darlington CCG   \n",
       "33             2014/15       CCG   00C              NHS Darlington CCG   \n",
       "34             2014/15       CCG   00C              NHS Darlington CCG   \n",
       "35             2014/15       CCG   00C              NHS Darlington CCG   \n",
       "36             2014/15       CCG   00C              NHS Darlington CCG   \n",
       "...                ...       ...   ...                             ...   \n",
       "26258          2011/12       CCG   99Q  NHS South Devon and Torbay CCG   \n",
       "26259          2011/12       CCG   99Q  NHS South Devon and Torbay CCG   \n",
       "26260          2011/12       CCG   99Q  NHS South Devon and Torbay CCG   \n",
       "26261          2011/12       CCG   99Q  NHS South Devon and Torbay CCG   \n",
       "26262          2011/12       CCG   99Q  NHS South Devon and Torbay CCG   \n",
       "\n",
       "                           Ethnicity_group Rate_per_100_000  Population  \\\n",
       "32              Any other Asian background          1298.70         500   \n",
       "33                             Bangladeshi          1147.20         500   \n",
       "34                                 Chinese              NaN         300   \n",
       "35                                  Indian          1790.60         700   \n",
       "36                               Pakistani              NaN         100   \n",
       "...                                    ...              ...         ...   \n",
       "26258           Any other Asian background              NaN         800   \n",
       "26259                          Bangladeshi              NaN         200   \n",
       "26260                              Chinese              NaN         600   \n",
       "26261                               Indian              NaN         600   \n",
       "26262                            Pakistani              NaN         100   \n",
       "\n",
       "       Number_using_service  Percentage_using_service  \n",
       "32                        5                  1.000000  \n",
       "33                        5                  1.000000  \n",
       "34                        0                  0.000000  \n",
       "35                       15                  2.142857  \n",
       "36                        0                  0.000000  \n",
       "...                     ...                       ...  \n",
       "26258                     0                  0.000000  \n",
       "26259                     0                  0.000000  \n",
       "26260                     0                  0.000000  \n",
       "26261                     0                  0.000000  \n",
       "26262                     0                  0.000000  \n",
       "\n",
       "[4220 rows x 9 columns]"
      ]
     },
     "execution_count": 57,
     "metadata": {},
     "output_type": "execute_result"
    }
   ],
   "source": [
    "asian_regional_data"
   ]
  },
  {
   "cell_type": "code",
   "execution_count": 61,
   "metadata": {},
   "outputs": [
    {
     "data": {
      "text/plain": [
       "[[181129200, 5063790], [16572800, 234842]]"
      ]
     },
     "execution_count": 61,
     "metadata": {},
     "output_type": "execute_result"
    }
   ],
   "source": [
    "#Make a contingency table. Pull out values for Total white population, Total Asian population and numbers\n",
    "#accessing services.\n",
    "\n",
    "white_population = white_regional_data.Population.sum()\n",
    "asian_population = asian_regional_data.Population.sum()\n",
    "white_accessing_services = white_regional_data.Number_using_service.sum()\n",
    "asian_accessing_services = asian_regional_data.Number_using_service.sum()\n",
    "\n",
    "contingency = [[white_population, white_accessing_services],[asian_population,asian_accessing_services]]\n",
    "\n",
    "contingency"
   ]
  },
  {
   "cell_type": "code",
   "execution_count": 62,
   "metadata": {},
   "outputs": [
    {
     "data": {
      "text/plain": [
       "(106053.34994243328, 0.0)"
      ]
     },
     "execution_count": 62,
     "metadata": {},
     "output_type": "execute_result"
    }
   ],
   "source": [
    "chi2, pval, dof, expected = chi2_contingency(contingency)\n",
    "chi2, pval"
   ]
  },
  {
   "cell_type": "markdown",
   "metadata": {},
   "source": [
    "As p <0.05, at a 5% significance level, we can therefore reject the null hypothesis and state that there is a significance difference between the two ethnic groups in accessing mental health services."
   ]
  },
  {
   "cell_type": "markdown",
   "metadata": {},
   "source": [
    "Reference for data:\n",
    "https://toolbox.google.com/datasetsearch/search?query=uk%20mental%20health%20bme&docid=qd3mUVXZ7GEGSaKsAAAAAA%3D%3D"
   ]
  },
  {
   "cell_type": "code",
   "execution_count": null,
   "metadata": {},
   "outputs": [],
   "source": []
  }
 ],
 "metadata": {
  "kernelspec": {
   "display_name": "Python 3",
   "language": "python",
   "name": "python3"
  },
  "language_info": {
   "codemirror_mode": {
    "name": "ipython",
    "version": 3
   },
   "file_extension": ".py",
   "mimetype": "text/x-python",
   "name": "python",
   "nbconvert_exporter": "python",
   "pygments_lexer": "ipython3",
   "version": "3.7.3"
  }
 },
 "nbformat": 4,
 "nbformat_minor": 2
}
